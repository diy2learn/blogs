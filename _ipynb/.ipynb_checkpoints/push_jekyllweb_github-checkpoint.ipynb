{
 "cells": [
  {
   "cell_type": "markdown",
   "metadata": {},
   "source": [
    "Github and jekyll are awsome for personal website and tech blogs. There are massive exciting tutors on how to setup a jekyll website/blog in. In the following, I will discuss how to make a github pages if you aldready have your jekyll website in your local machine."
   ]
  },
  {
   "cell_type": "markdown",
   "metadata": {},
   "source": [
    "**Outline**  \n",
    "[1. Create a .git in your website folder](#1. Create a .git in your website folder)  \n",
    "[2. Update .git file with content of your website](# 2. Update .git file with content of your website)   \n",
    "[3. Push your website  into github page](# 3. Push your website  into github page)  \n",
    "\n"
   ]
  },
  {
   "cell_type": "markdown",
   "metadata": {},
   "source": [
    "## 1. Create a .git in your website folder\n",
    "\n",
    "```\n",
    "cd your_web_folder```\n",
    "Copy all of exisiting files and folders into a temporal folders outside your_web_folder\n",
    "```\n",
    "git init # initialize .git file\n",
    "```"
   ]
  },
  {
   "cell_type": "markdown",
   "metadata": {},
   "source": [
    "## 2. Update .git file with content of your website\n",
    "Move all of website files and folders back to your_web_folder\n",
    "```\n",
    "git add .\n",
    "git commit -m \"add website content to git\"\n",
    "```"
   ]
  },
  {
   "cell_type": "markdown",
   "metadata": {},
   "source": [
    "## 3. Push your website  into github page\n",
    "* Create your github folder with a specific name format: **your_username.github.io**\n",
    "* Create a local variable to link to this folder:\n",
    "```\n",
    "git remote add origin git@github.com:your_username/your_username.github.io.git\n",
    "```\n",
    "* check if you have ssh-key in your github\n",
    "    * Go to top-right, at your logo, click the dropdown menu, chose **Settings**\n",
    "    * in **SSH and  GPG keys** check if **SSH keys** have been filled. if not you need to create new SSH key following [this tutor](https://help.github.com/articles/generating-a-new-ssh-key-and-adding-it-to-the-ssh-agent/) and then add that SSH key to your github following [this tutor](https://help.github.com/articles/adding-a-new-ssh-key-to-your-github-account/)\n",
    "* Now you can push your website to your github page\n",
    "```\n",
    "git push -u origin master\n",
    "```\n",
    "* Finally, to access your website, just go to **https://your_username.github.io**"
   ]
  },
  {
   "cell_type": "markdown",
   "metadata": {},
   "source": [
    "## Some tips\n",
    "* To remove a .git file\n",
    "```rm -rf .git```\n",
    "* if you have an error of non existing \"master branch\", you need to do a commit. This will automatically create master branch.\n",
    "* you can also check if master branch (or gh-pages) is available by:\n",
    "``` git branch ```"
   ]
  },
  {
   "cell_type": "markdown",
   "metadata": {},
   "source": [
    "## References\n",
    "1.[guide to setup jekyll page using either default or more builtiful template in github](http://www.stephaniehicks.com/githubPages_tutorial/pages/githubpages-jekyll.html)"
   ]
  },
  {
   "cell_type": "markdown",
   "metadata": {},
   "source": []
  }
 ],
 "metadata": {
  "kernelspec": {
   "display_name": "Python 3",
   "language": "python",
   "name": "python3"
  },
  "language_info": {
   "codemirror_mode": {
    "name": "ipython",
    "version": 3
   },
   "file_extension": ".py",
   "mimetype": "text/x-python",
   "name": "python",
   "nbconvert_exporter": "python",
   "pygments_lexer": "ipython3",
   "version": "3.6.3"
  }
 },
 "nbformat": 4,
 "nbformat_minor": 2
}
